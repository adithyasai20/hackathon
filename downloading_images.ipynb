{
 "cells": [
  {
   "cell_type": "code",
   "execution_count": 1,
   "metadata": {},
   "outputs": [],
   "source": [
    "# Third party libraries / extensions\n",
    "\n",
    "# Downloaded libraries\n",
    "import matplotlib.pyplot as plt\n",
    "import numpy as np\n",
    "import pandas as pd\n",
    "\n",
    "# Local imports\n",
    "from src.utils import download_images, download_image\n",
    "\n",
    "# Builtin libraries\n",
    "import os\n",
    "\n",
    "# Notebook - level Constants \n",
    "TRAIN_DATASET_PATH = \"dataset/train.csv\"\n",
    "TEST_DATASET_PATH = \"dataset/test.csv\"\n",
    "TRAIN_IMAGE_DIR = \"dataset/images/train\"\n",
    "TEST_IMAGE_DIR = \"dataset/images/test\""
   ]
  },
  {
   "cell_type": "code",
   "execution_count": 2,
   "metadata": {},
   "outputs": [],
   "source": [
    "# Loads train and test datasets with image links and descriptions\n",
    "train_df = pd.read_csv(TRAIN_DATASET_PATH)\n",
    "test_df = pd.read_csv(TEST_DATASET_PATH)"
   ]
  },
  {
   "cell_type": "code",
   "execution_count": 3,
   "metadata": {},
   "outputs": [],
   "source": [
    "# Makes a folder to store downloaded images\n",
    "if not os.path.exists(TRAIN_IMAGE_DIR):\n",
    "    os.makedirs(TRAIN_IMAGE_DIR)\n",
    "\n",
    "if not os.path.exists(TEST_IMAGE_DIR):\n",
    "    os.makedirs(TEST_IMAGE_DIR)"
   ]
  },
  {
   "cell_type": "code",
   "execution_count": 4,
   "metadata": {},
   "outputs": [
    {
     "name": "stderr",
     "output_type": "stream",
     "text": [
      "100%|██████████| 263859/263859 [12:44<00:00, 345.18it/s]  \n"
     ]
    }
   ],
   "source": [
    "download_images(train_df['image_link'], TRAIN_IMAGE_DIR, allow_multiprocessing=True)"
   ]
  },
  {
   "cell_type": "code",
   "execution_count": 4,
   "metadata": {},
   "outputs": [
    {
     "name": "stderr",
     "output_type": "stream",
     "text": [
      "100%|██████████| 131187/131187 [17:39<00:00, 123.76it/s]  \n"
     ]
    }
   ],
   "source": [
    "download_images(test_df['image_link'], TEST_IMAGE_DIR, allow_multiprocessing=True)"
   ]
  },
  {
   "cell_type": "code",
   "execution_count": null,
   "metadata": {},
   "outputs": [],
   "source": []
  },
  {
   "cell_type": "code",
   "execution_count": null,
   "metadata": {},
   "outputs": [],
   "source": []
  }
 ],
 "metadata": {
  "kernelspec": {
   "display_name": "venv",
   "language": "python",
   "name": "python3"
  },
  "language_info": {
   "codemirror_mode": {
    "name": "ipython",
    "version": 3
   },
   "file_extension": ".py",
   "mimetype": "text/x-python",
   "name": "python",
   "nbconvert_exporter": "python",
   "pygments_lexer": "ipython3",
   "version": "3.9.7"
  }
 },
 "nbformat": 4,
 "nbformat_minor": 2
}
